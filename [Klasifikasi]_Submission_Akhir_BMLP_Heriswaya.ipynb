{
  "cells": [
    {
      "cell_type": "markdown",
      "metadata": {
        "id": "fKADPWcFKlj3"
      },
      "source": [
        "# **1. Import Library**"
      ]
    },
    {
      "cell_type": "markdown",
      "metadata": {
        "id": "LgA3ERnVn84N"
      },
      "source": [
        "Pada tahap ini, Anda perlu mengimpor beberapa pustaka (library) Python yang dibutuhkan untuk analisis data dan pembangunan model machine learning."
      ]
    },
    {
      "cell_type": "code",
      "execution_count": 25,
      "metadata": {
        "id": "BlmvjLY9M4Yj"
      },
      "outputs": [],
      "source": [
        "import pandas as pd\n",
        "import numpy as np\n",
        "import matplotlib.pyplot as plt\n",
        "import seaborn as sns\n",
        "from sklearn.model_selection import train_test_split\n",
        "from sklearn.preprocessing import LabelEncoder, StandardScaler\n",
        "from sklearn.ensemble import RandomForestClassifier\n",
        "from xgboost import XGBClassifier\n",
        "from sklearn.metrics import accuracy_score, f1_score, classification_report, confusion_matrix\n",
        "# Tuning Model Klasifikasi\n",
        "from sklearn.model_selection import GridSearchCV\n",
        "from sklearn.ensemble import RandomForestClassifier\n",
        "from xgboost import XGBClassifier\n",
        "# Tuning pakai model lain\n",
        "import optuna"
      ]
    },
    {
      "cell_type": "markdown",
      "metadata": {
        "id": "f3YIEnAFKrKL"
      },
      "source": [
        "# **2. Memuat Dataset dari Hasil Clustering**"
      ]
    },
    {
      "cell_type": "markdown",
      "metadata": {
        "id": "Ey3ItwTen_7E"
      },
      "source": [
        "Memuat dataset hasil clustering dari file CSV ke dalam variabel DataFrame."
      ]
    },
    {
      "cell_type": "code",
      "execution_count": 26,
      "metadata": {
        "id": "GHCGNTyrM5fS"
      },
      "outputs": [
        {
          "name": "stdout",
          "output_type": "stream",
          "text": [
            "          Area       City         Restaurant  Price  Avg ratings  \\\n",
            "0  Koramangala  Bangalore        Tandoor Hut  300.0          4.4   \n",
            "1  Koramangala  Bangalore      Tunday Kababi  300.0          4.1   \n",
            "2    Jogupalya  Bangalore            Kim Lee  650.0          4.4   \n",
            "3  Indiranagar  Bangalore  New Punjabi Hotel  250.0          3.9   \n",
            "4  Indiranagar  Bangalore                Nh8  350.0          4.0   \n",
            "\n",
            "   Total ratings                                          Food type  \\\n",
            "0          100.0          Biryani,Chinese,North Indian,South Indian   \n",
            "1          100.0                                   Mughlai,Lucknowi   \n",
            "2          100.0                                            Chinese   \n",
            "3          500.0               North Indian,Punjabi,Tandoor,Chinese   \n",
            "4           50.0  Rajasthani,Gujarati,North Indian,Snacks,Desser...   \n",
            "\n",
            "        Address  Delivery time  Cluster  \n",
            "0     5Th Block           59.0        1  \n",
            "1     5Th Block           56.0        1  \n",
            "2   Double Road           50.0        0  \n",
            "3  80 Feet Road           57.0        1  \n",
            "4  80 Feet Road           63.0        1  \n"
          ]
        }
      ],
      "source": [
        "df = pd.read_csv(\"https://raw.githubusercontent.com/heriswaya/Clustering-Food-Delivery-Order-History-Data/main/hasil_clustering.csv\")\n",
        "# Cek Data\n",
        "print(df.head())"
      ]
    },
    {
      "cell_type": "code",
      "execution_count": 27,
      "metadata": {},
      "outputs": [
        {
          "name": "stdout",
          "output_type": "stream",
          "text": [
            "<class 'pandas.core.frame.DataFrame'>\n",
            "RangeIndex: 8680 entries, 0 to 8679\n",
            "Data columns (total 10 columns):\n",
            " #   Column         Non-Null Count  Dtype  \n",
            "---  ------         --------------  -----  \n",
            " 0   Area           8680 non-null   object \n",
            " 1   City           8680 non-null   object \n",
            " 2   Restaurant     8680 non-null   object \n",
            " 3   Price          8680 non-null   float64\n",
            " 4   Avg ratings    8680 non-null   float64\n",
            " 5   Total ratings  8680 non-null   float64\n",
            " 6   Food type      8680 non-null   object \n",
            " 7   Address        8680 non-null   object \n",
            " 8   Delivery time  8680 non-null   float64\n",
            " 9   Cluster        8680 non-null   int64  \n",
            "dtypes: float64(4), int64(1), object(5)\n",
            "memory usage: 678.3+ KB\n",
            "None\n"
          ]
        }
      ],
      "source": [
        "print(df.info())"
      ]
    },
    {
      "cell_type": "markdown",
      "metadata": {
        "id": "KkPem5eWL2UP"
      },
      "source": [
        "# **3. Data Splitting**"
      ]
    },
    {
      "cell_type": "markdown",
      "metadata": {
        "id": "YYj1rl_JNI9Y"
      },
      "source": [
        "Tahap Data Splitting bertujuan untuk memisahkan dataset menjadi dua bagian: data latih (training set) dan data uji (test set)."
      ]
    },
    {
      "cell_type": "code",
      "execution_count": 28,
      "metadata": {
        "id": "OubAW-7ONKVj"
      },
      "outputs": [],
      "source": [
        "# Pisahkan Fitur dan Target\n",
        "X = df.drop(columns=[\"Cluster\"])  # Cluster sebagai target label\n",
        "y = df[\"Cluster\"]"
      ]
    },
    {
      "cell_type": "code",
      "execution_count": 29,
      "metadata": {},
      "outputs": [],
      "source": [
        "# Konversi Data Kategorikal ke Numerik\n",
        "label_encoders = {}\n",
        "for col in X.select_dtypes(include=[\"object\"]).columns:\n",
        "    le = LabelEncoder()\n",
        "    X[col] = le.fit_transform(X[col])\n",
        "    label_encoders[col] = le  # Simpan encoder untuk invers transformasi nanti"
      ]
    },
    {
      "cell_type": "code",
      "execution_count": 30,
      "metadata": {},
      "outputs": [],
      "source": [
        "# Normalisasi Data Numerik\n",
        "scaler = StandardScaler()\n",
        "X[X.select_dtypes(include=[\"number\"]).columns] = scaler.fit_transform(X[X.select_dtypes(include=[\"number\"]).columns])"
      ]
    },
    {
      "cell_type": "code",
      "execution_count": 31,
      "metadata": {},
      "outputs": [
        {
          "name": "stdout",
          "output_type": "stream",
          "text": [
            "Training size: (6944, 9), Testing size: (1736, 9)\n"
          ]
        }
      ],
      "source": [
        "# Split Data (Training & Testing)\n",
        "X_train, X_test, y_train, y_test = train_test_split(X, y, test_size=0.2, random_state=42, stratify=y)\n",
        "\n",
        "print(f\"Training size: {X_train.shape}, Testing size: {X_test.shape}\")"
      ]
    },
    {
      "cell_type": "markdown",
      "metadata": {
        "id": "IVPbB03CMhTT"
      },
      "source": [
        "# **4. Membangun Model Klasifikasi**\n"
      ]
    },
    {
      "cell_type": "markdown",
      "metadata": {
        "id": "Ned1pL9zMmBK"
      },
      "source": [
        "## **a. Membangun Model Klasifikasi**"
      ]
    },
    {
      "cell_type": "markdown",
      "metadata": {
        "id": "WAWzPOE4Nkti"
      },
      "source": [
        "Setelah memilih algoritma klasifikasi yang sesuai, langkah selanjutnya adalah melatih model menggunakan data latih.\n",
        "\n",
        "Berikut adalah rekomendasi tahapannya.\n",
        "1. Pilih algoritma klasifikasi yang sesuai, seperti Logistic Regression, Decision Tree, Random Forest, atau K-Nearest Neighbors (KNN).\n",
        "2. Latih model menggunakan data latih."
      ]
    },
    {
      "cell_type": "code",
      "execution_count": 32,
      "metadata": {
        "id": "4JYxBe87NLDk"
      },
      "outputs": [],
      "source": [
        "# Inisialisasi Model\n",
        "rf_model = RandomForestClassifier(random_state=42)\n",
        "xgb_model = XGBClassifier(use_label_encoder=False, eval_metric=\"mlogloss\", random_state=42)"
      ]
    },
    {
      "cell_type": "code",
      "execution_count": 33,
      "metadata": {},
      "outputs": [
        {
          "name": "stderr",
          "output_type": "stream",
          "text": [
            "c:\\Users\\heris\\AppData\\Local\\Programs\\Python\\Python313\\Lib\\site-packages\\xgboost\\training.py:183: UserWarning: [16:22:18] WARNING: C:\\actions-runner\\_work\\xgboost\\xgboost\\src\\learner.cc:738: \n",
            "Parameters: { \"use_label_encoder\" } are not used.\n",
            "\n",
            "  bst.update(dtrain, iteration=i, fobj=obj)\n"
          ]
        },
        {
          "data": {
            "text/html": [
              "<style>#sk-container-id-2 {\n",
              "  /* Definition of color scheme common for light and dark mode */\n",
              "  --sklearn-color-text: #000;\n",
              "  --sklearn-color-text-muted: #666;\n",
              "  --sklearn-color-line: gray;\n",
              "  /* Definition of color scheme for unfitted estimators */\n",
              "  --sklearn-color-unfitted-level-0: #fff5e6;\n",
              "  --sklearn-color-unfitted-level-1: #f6e4d2;\n",
              "  --sklearn-color-unfitted-level-2: #ffe0b3;\n",
              "  --sklearn-color-unfitted-level-3: chocolate;\n",
              "  /* Definition of color scheme for fitted estimators */\n",
              "  --sklearn-color-fitted-level-0: #f0f8ff;\n",
              "  --sklearn-color-fitted-level-1: #d4ebff;\n",
              "  --sklearn-color-fitted-level-2: #b3dbfd;\n",
              "  --sklearn-color-fitted-level-3: cornflowerblue;\n",
              "\n",
              "  /* Specific color for light theme */\n",
              "  --sklearn-color-text-on-default-background: var(--sg-text-color, var(--theme-code-foreground, var(--jp-content-font-color1, black)));\n",
              "  --sklearn-color-background: var(--sg-background-color, var(--theme-background, var(--jp-layout-color0, white)));\n",
              "  --sklearn-color-border-box: var(--sg-text-color, var(--theme-code-foreground, var(--jp-content-font-color1, black)));\n",
              "  --sklearn-color-icon: #696969;\n",
              "\n",
              "  @media (prefers-color-scheme: dark) {\n",
              "    /* Redefinition of color scheme for dark theme */\n",
              "    --sklearn-color-text-on-default-background: var(--sg-text-color, var(--theme-code-foreground, var(--jp-content-font-color1, white)));\n",
              "    --sklearn-color-background: var(--sg-background-color, var(--theme-background, var(--jp-layout-color0, #111)));\n",
              "    --sklearn-color-border-box: var(--sg-text-color, var(--theme-code-foreground, var(--jp-content-font-color1, white)));\n",
              "    --sklearn-color-icon: #878787;\n",
              "  }\n",
              "}\n",
              "\n",
              "#sk-container-id-2 {\n",
              "  color: var(--sklearn-color-text);\n",
              "}\n",
              "\n",
              "#sk-container-id-2 pre {\n",
              "  padding: 0;\n",
              "}\n",
              "\n",
              "#sk-container-id-2 input.sk-hidden--visually {\n",
              "  border: 0;\n",
              "  clip: rect(1px 1px 1px 1px);\n",
              "  clip: rect(1px, 1px, 1px, 1px);\n",
              "  height: 1px;\n",
              "  margin: -1px;\n",
              "  overflow: hidden;\n",
              "  padding: 0;\n",
              "  position: absolute;\n",
              "  width: 1px;\n",
              "}\n",
              "\n",
              "#sk-container-id-2 div.sk-dashed-wrapped {\n",
              "  border: 1px dashed var(--sklearn-color-line);\n",
              "  margin: 0 0.4em 0.5em 0.4em;\n",
              "  box-sizing: border-box;\n",
              "  padding-bottom: 0.4em;\n",
              "  background-color: var(--sklearn-color-background);\n",
              "}\n",
              "\n",
              "#sk-container-id-2 div.sk-container {\n",
              "  /* jupyter's `normalize.less` sets `[hidden] { display: none; }`\n",
              "     but bootstrap.min.css set `[hidden] { display: none !important; }`\n",
              "     so we also need the `!important` here to be able to override the\n",
              "     default hidden behavior on the sphinx rendered scikit-learn.org.\n",
              "     See: https://github.com/scikit-learn/scikit-learn/issues/21755 */\n",
              "  display: inline-block !important;\n",
              "  position: relative;\n",
              "}\n",
              "\n",
              "#sk-container-id-2 div.sk-text-repr-fallback {\n",
              "  display: none;\n",
              "}\n",
              "\n",
              "div.sk-parallel-item,\n",
              "div.sk-serial,\n",
              "div.sk-item {\n",
              "  /* draw centered vertical line to link estimators */\n",
              "  background-image: linear-gradient(var(--sklearn-color-text-on-default-background), var(--sklearn-color-text-on-default-background));\n",
              "  background-size: 2px 100%;\n",
              "  background-repeat: no-repeat;\n",
              "  background-position: center center;\n",
              "}\n",
              "\n",
              "/* Parallel-specific style estimator block */\n",
              "\n",
              "#sk-container-id-2 div.sk-parallel-item::after {\n",
              "  content: \"\";\n",
              "  width: 100%;\n",
              "  border-bottom: 2px solid var(--sklearn-color-text-on-default-background);\n",
              "  flex-grow: 1;\n",
              "}\n",
              "\n",
              "#sk-container-id-2 div.sk-parallel {\n",
              "  display: flex;\n",
              "  align-items: stretch;\n",
              "  justify-content: center;\n",
              "  background-color: var(--sklearn-color-background);\n",
              "  position: relative;\n",
              "}\n",
              "\n",
              "#sk-container-id-2 div.sk-parallel-item {\n",
              "  display: flex;\n",
              "  flex-direction: column;\n",
              "}\n",
              "\n",
              "#sk-container-id-2 div.sk-parallel-item:first-child::after {\n",
              "  align-self: flex-end;\n",
              "  width: 50%;\n",
              "}\n",
              "\n",
              "#sk-container-id-2 div.sk-parallel-item:last-child::after {\n",
              "  align-self: flex-start;\n",
              "  width: 50%;\n",
              "}\n",
              "\n",
              "#sk-container-id-2 div.sk-parallel-item:only-child::after {\n",
              "  width: 0;\n",
              "}\n",
              "\n",
              "/* Serial-specific style estimator block */\n",
              "\n",
              "#sk-container-id-2 div.sk-serial {\n",
              "  display: flex;\n",
              "  flex-direction: column;\n",
              "  align-items: center;\n",
              "  background-color: var(--sklearn-color-background);\n",
              "  padding-right: 1em;\n",
              "  padding-left: 1em;\n",
              "}\n",
              "\n",
              "\n",
              "/* Toggleable style: style used for estimator/Pipeline/ColumnTransformer box that is\n",
              "clickable and can be expanded/collapsed.\n",
              "- Pipeline and ColumnTransformer use this feature and define the default style\n",
              "- Estimators will overwrite some part of the style using the `sk-estimator` class\n",
              "*/\n",
              "\n",
              "/* Pipeline and ColumnTransformer style (default) */\n",
              "\n",
              "#sk-container-id-2 div.sk-toggleable {\n",
              "  /* Default theme specific background. It is overwritten whether we have a\n",
              "  specific estimator or a Pipeline/ColumnTransformer */\n",
              "  background-color: var(--sklearn-color-background);\n",
              "}\n",
              "\n",
              "/* Toggleable label */\n",
              "#sk-container-id-2 label.sk-toggleable__label {\n",
              "  cursor: pointer;\n",
              "  display: flex;\n",
              "  width: 100%;\n",
              "  margin-bottom: 0;\n",
              "  padding: 0.5em;\n",
              "  box-sizing: border-box;\n",
              "  text-align: center;\n",
              "  align-items: start;\n",
              "  justify-content: space-between;\n",
              "  gap: 0.5em;\n",
              "}\n",
              "\n",
              "#sk-container-id-2 label.sk-toggleable__label .caption {\n",
              "  font-size: 0.6rem;\n",
              "  font-weight: lighter;\n",
              "  color: var(--sklearn-color-text-muted);\n",
              "}\n",
              "\n",
              "#sk-container-id-2 label.sk-toggleable__label-arrow:before {\n",
              "  /* Arrow on the left of the label */\n",
              "  content: \"▸\";\n",
              "  float: left;\n",
              "  margin-right: 0.25em;\n",
              "  color: var(--sklearn-color-icon);\n",
              "}\n",
              "\n",
              "#sk-container-id-2 label.sk-toggleable__label-arrow:hover:before {\n",
              "  color: var(--sklearn-color-text);\n",
              "}\n",
              "\n",
              "/* Toggleable content - dropdown */\n",
              "\n",
              "#sk-container-id-2 div.sk-toggleable__content {\n",
              "  max-height: 0;\n",
              "  max-width: 0;\n",
              "  overflow: hidden;\n",
              "  text-align: left;\n",
              "  /* unfitted */\n",
              "  background-color: var(--sklearn-color-unfitted-level-0);\n",
              "}\n",
              "\n",
              "#sk-container-id-2 div.sk-toggleable__content.fitted {\n",
              "  /* fitted */\n",
              "  background-color: var(--sklearn-color-fitted-level-0);\n",
              "}\n",
              "\n",
              "#sk-container-id-2 div.sk-toggleable__content pre {\n",
              "  margin: 0.2em;\n",
              "  border-radius: 0.25em;\n",
              "  color: var(--sklearn-color-text);\n",
              "  /* unfitted */\n",
              "  background-color: var(--sklearn-color-unfitted-level-0);\n",
              "}\n",
              "\n",
              "#sk-container-id-2 div.sk-toggleable__content.fitted pre {\n",
              "  /* unfitted */\n",
              "  background-color: var(--sklearn-color-fitted-level-0);\n",
              "}\n",
              "\n",
              "#sk-container-id-2 input.sk-toggleable__control:checked~div.sk-toggleable__content {\n",
              "  /* Expand drop-down */\n",
              "  max-height: 200px;\n",
              "  max-width: 100%;\n",
              "  overflow: auto;\n",
              "}\n",
              "\n",
              "#sk-container-id-2 input.sk-toggleable__control:checked~label.sk-toggleable__label-arrow:before {\n",
              "  content: \"▾\";\n",
              "}\n",
              "\n",
              "/* Pipeline/ColumnTransformer-specific style */\n",
              "\n",
              "#sk-container-id-2 div.sk-label input.sk-toggleable__control:checked~label.sk-toggleable__label {\n",
              "  color: var(--sklearn-color-text);\n",
              "  background-color: var(--sklearn-color-unfitted-level-2);\n",
              "}\n",
              "\n",
              "#sk-container-id-2 div.sk-label.fitted input.sk-toggleable__control:checked~label.sk-toggleable__label {\n",
              "  background-color: var(--sklearn-color-fitted-level-2);\n",
              "}\n",
              "\n",
              "/* Estimator-specific style */\n",
              "\n",
              "/* Colorize estimator box */\n",
              "#sk-container-id-2 div.sk-estimator input.sk-toggleable__control:checked~label.sk-toggleable__label {\n",
              "  /* unfitted */\n",
              "  background-color: var(--sklearn-color-unfitted-level-2);\n",
              "}\n",
              "\n",
              "#sk-container-id-2 div.sk-estimator.fitted input.sk-toggleable__control:checked~label.sk-toggleable__label {\n",
              "  /* fitted */\n",
              "  background-color: var(--sklearn-color-fitted-level-2);\n",
              "}\n",
              "\n",
              "#sk-container-id-2 div.sk-label label.sk-toggleable__label,\n",
              "#sk-container-id-2 div.sk-label label {\n",
              "  /* The background is the default theme color */\n",
              "  color: var(--sklearn-color-text-on-default-background);\n",
              "}\n",
              "\n",
              "/* On hover, darken the color of the background */\n",
              "#sk-container-id-2 div.sk-label:hover label.sk-toggleable__label {\n",
              "  color: var(--sklearn-color-text);\n",
              "  background-color: var(--sklearn-color-unfitted-level-2);\n",
              "}\n",
              "\n",
              "/* Label box, darken color on hover, fitted */\n",
              "#sk-container-id-2 div.sk-label.fitted:hover label.sk-toggleable__label.fitted {\n",
              "  color: var(--sklearn-color-text);\n",
              "  background-color: var(--sklearn-color-fitted-level-2);\n",
              "}\n",
              "\n",
              "/* Estimator label */\n",
              "\n",
              "#sk-container-id-2 div.sk-label label {\n",
              "  font-family: monospace;\n",
              "  font-weight: bold;\n",
              "  display: inline-block;\n",
              "  line-height: 1.2em;\n",
              "}\n",
              "\n",
              "#sk-container-id-2 div.sk-label-container {\n",
              "  text-align: center;\n",
              "}\n",
              "\n",
              "/* Estimator-specific */\n",
              "#sk-container-id-2 div.sk-estimator {\n",
              "  font-family: monospace;\n",
              "  border: 1px dotted var(--sklearn-color-border-box);\n",
              "  border-radius: 0.25em;\n",
              "  box-sizing: border-box;\n",
              "  margin-bottom: 0.5em;\n",
              "  /* unfitted */\n",
              "  background-color: var(--sklearn-color-unfitted-level-0);\n",
              "}\n",
              "\n",
              "#sk-container-id-2 div.sk-estimator.fitted {\n",
              "  /* fitted */\n",
              "  background-color: var(--sklearn-color-fitted-level-0);\n",
              "}\n",
              "\n",
              "/* on hover */\n",
              "#sk-container-id-2 div.sk-estimator:hover {\n",
              "  /* unfitted */\n",
              "  background-color: var(--sklearn-color-unfitted-level-2);\n",
              "}\n",
              "\n",
              "#sk-container-id-2 div.sk-estimator.fitted:hover {\n",
              "  /* fitted */\n",
              "  background-color: var(--sklearn-color-fitted-level-2);\n",
              "}\n",
              "\n",
              "/* Specification for estimator info (e.g. \"i\" and \"?\") */\n",
              "\n",
              "/* Common style for \"i\" and \"?\" */\n",
              "\n",
              ".sk-estimator-doc-link,\n",
              "a:link.sk-estimator-doc-link,\n",
              "a:visited.sk-estimator-doc-link {\n",
              "  float: right;\n",
              "  font-size: smaller;\n",
              "  line-height: 1em;\n",
              "  font-family: monospace;\n",
              "  background-color: var(--sklearn-color-background);\n",
              "  border-radius: 1em;\n",
              "  height: 1em;\n",
              "  width: 1em;\n",
              "  text-decoration: none !important;\n",
              "  margin-left: 0.5em;\n",
              "  text-align: center;\n",
              "  /* unfitted */\n",
              "  border: var(--sklearn-color-unfitted-level-1) 1pt solid;\n",
              "  color: var(--sklearn-color-unfitted-level-1);\n",
              "}\n",
              "\n",
              ".sk-estimator-doc-link.fitted,\n",
              "a:link.sk-estimator-doc-link.fitted,\n",
              "a:visited.sk-estimator-doc-link.fitted {\n",
              "  /* fitted */\n",
              "  border: var(--sklearn-color-fitted-level-1) 1pt solid;\n",
              "  color: var(--sklearn-color-fitted-level-1);\n",
              "}\n",
              "\n",
              "/* On hover */\n",
              "div.sk-estimator:hover .sk-estimator-doc-link:hover,\n",
              ".sk-estimator-doc-link:hover,\n",
              "div.sk-label-container:hover .sk-estimator-doc-link:hover,\n",
              ".sk-estimator-doc-link:hover {\n",
              "  /* unfitted */\n",
              "  background-color: var(--sklearn-color-unfitted-level-3);\n",
              "  color: var(--sklearn-color-background);\n",
              "  text-decoration: none;\n",
              "}\n",
              "\n",
              "div.sk-estimator.fitted:hover .sk-estimator-doc-link.fitted:hover,\n",
              ".sk-estimator-doc-link.fitted:hover,\n",
              "div.sk-label-container:hover .sk-estimator-doc-link.fitted:hover,\n",
              ".sk-estimator-doc-link.fitted:hover {\n",
              "  /* fitted */\n",
              "  background-color: var(--sklearn-color-fitted-level-3);\n",
              "  color: var(--sklearn-color-background);\n",
              "  text-decoration: none;\n",
              "}\n",
              "\n",
              "/* Span, style for the box shown on hovering the info icon */\n",
              ".sk-estimator-doc-link span {\n",
              "  display: none;\n",
              "  z-index: 9999;\n",
              "  position: relative;\n",
              "  font-weight: normal;\n",
              "  right: .2ex;\n",
              "  padding: .5ex;\n",
              "  margin: .5ex;\n",
              "  width: min-content;\n",
              "  min-width: 20ex;\n",
              "  max-width: 50ex;\n",
              "  color: var(--sklearn-color-text);\n",
              "  box-shadow: 2pt 2pt 4pt #999;\n",
              "  /* unfitted */\n",
              "  background: var(--sklearn-color-unfitted-level-0);\n",
              "  border: .5pt solid var(--sklearn-color-unfitted-level-3);\n",
              "}\n",
              "\n",
              ".sk-estimator-doc-link.fitted span {\n",
              "  /* fitted */\n",
              "  background: var(--sklearn-color-fitted-level-0);\n",
              "  border: var(--sklearn-color-fitted-level-3);\n",
              "}\n",
              "\n",
              ".sk-estimator-doc-link:hover span {\n",
              "  display: block;\n",
              "}\n",
              "\n",
              "/* \"?\"-specific style due to the `<a>` HTML tag */\n",
              "\n",
              "#sk-container-id-2 a.estimator_doc_link {\n",
              "  float: right;\n",
              "  font-size: 1rem;\n",
              "  line-height: 1em;\n",
              "  font-family: monospace;\n",
              "  background-color: var(--sklearn-color-background);\n",
              "  border-radius: 1rem;\n",
              "  height: 1rem;\n",
              "  width: 1rem;\n",
              "  text-decoration: none;\n",
              "  /* unfitted */\n",
              "  color: var(--sklearn-color-unfitted-level-1);\n",
              "  border: var(--sklearn-color-unfitted-level-1) 1pt solid;\n",
              "}\n",
              "\n",
              "#sk-container-id-2 a.estimator_doc_link.fitted {\n",
              "  /* fitted */\n",
              "  border: var(--sklearn-color-fitted-level-1) 1pt solid;\n",
              "  color: var(--sklearn-color-fitted-level-1);\n",
              "}\n",
              "\n",
              "/* On hover */\n",
              "#sk-container-id-2 a.estimator_doc_link:hover {\n",
              "  /* unfitted */\n",
              "  background-color: var(--sklearn-color-unfitted-level-3);\n",
              "  color: var(--sklearn-color-background);\n",
              "  text-decoration: none;\n",
              "}\n",
              "\n",
              "#sk-container-id-2 a.estimator_doc_link.fitted:hover {\n",
              "  /* fitted */\n",
              "  background-color: var(--sklearn-color-fitted-level-3);\n",
              "}\n",
              "</style><div id=\"sk-container-id-2\" class=\"sk-top-container\"><div class=\"sk-text-repr-fallback\"><pre>XGBClassifier(base_score=None, booster=None, callbacks=None,\n",
              "              colsample_bylevel=None, colsample_bynode=None,\n",
              "              colsample_bytree=None, device=None, early_stopping_rounds=None,\n",
              "              enable_categorical=False, eval_metric=&#x27;mlogloss&#x27;,\n",
              "              feature_types=None, feature_weights=None, gamma=None,\n",
              "              grow_policy=None, importance_type=None,\n",
              "              interaction_constraints=None, learning_rate=None, max_bin=None,\n",
              "              max_cat_threshold=None, max_cat_to_onehot=None,\n",
              "              max_delta_step=None, max_depth=None, max_leaves=None,\n",
              "              min_child_weight=None, missing=nan, monotone_constraints=None,\n",
              "              multi_strategy=None, n_estimators=None, n_jobs=None,\n",
              "              num_parallel_tree=None, ...)</pre><b>In a Jupyter environment, please rerun this cell to show the HTML representation or trust the notebook. <br />On GitHub, the HTML representation is unable to render, please try loading this page with nbviewer.org.</b></div><div class=\"sk-container\" hidden><div class=\"sk-item\"><div class=\"sk-estimator fitted sk-toggleable\"><input class=\"sk-toggleable__control sk-hidden--visually\" id=\"sk-estimator-id-2\" type=\"checkbox\" checked><label for=\"sk-estimator-id-2\" class=\"sk-toggleable__label fitted sk-toggleable__label-arrow\"><div><div>XGBClassifier</div></div><div><a class=\"sk-estimator-doc-link fitted\" rel=\"noreferrer\" target=\"_blank\" href=\"https://xgboost.readthedocs.io/en/release_3.0.0/python/python_api.html#xgboost.XGBClassifier\">?<span>Documentation for XGBClassifier</span></a><span class=\"sk-estimator-doc-link fitted\">i<span>Fitted</span></span></div></label><div class=\"sk-toggleable__content fitted\"><pre>XGBClassifier(base_score=None, booster=None, callbacks=None,\n",
              "              colsample_bylevel=None, colsample_bynode=None,\n",
              "              colsample_bytree=None, device=None, early_stopping_rounds=None,\n",
              "              enable_categorical=False, eval_metric=&#x27;mlogloss&#x27;,\n",
              "              feature_types=None, feature_weights=None, gamma=None,\n",
              "              grow_policy=None, importance_type=None,\n",
              "              interaction_constraints=None, learning_rate=None, max_bin=None,\n",
              "              max_cat_threshold=None, max_cat_to_onehot=None,\n",
              "              max_delta_step=None, max_depth=None, max_leaves=None,\n",
              "              min_child_weight=None, missing=nan, monotone_constraints=None,\n",
              "              multi_strategy=None, n_estimators=None, n_jobs=None,\n",
              "              num_parallel_tree=None, ...)</pre></div> </div></div></div></div>"
            ],
            "text/plain": [
              "XGBClassifier(base_score=None, booster=None, callbacks=None,\n",
              "              colsample_bylevel=None, colsample_bynode=None,\n",
              "              colsample_bytree=None, device=None, early_stopping_rounds=None,\n",
              "              enable_categorical=False, eval_metric='mlogloss',\n",
              "              feature_types=None, feature_weights=None, gamma=None,\n",
              "              grow_policy=None, importance_type=None,\n",
              "              interaction_constraints=None, learning_rate=None, max_bin=None,\n",
              "              max_cat_threshold=None, max_cat_to_onehot=None,\n",
              "              max_delta_step=None, max_depth=None, max_leaves=None,\n",
              "              min_child_weight=None, missing=nan, monotone_constraints=None,\n",
              "              multi_strategy=None, n_estimators=None, n_jobs=None,\n",
              "              num_parallel_tree=None, ...)"
            ]
          },
          "execution_count": 33,
          "metadata": {},
          "output_type": "execute_result"
        }
      ],
      "source": [
        "# Training Model\n",
        "rf_model.fit(X_train, y_train)\n",
        "xgb_model.fit(X_train, y_train)"
      ]
    },
    {
      "cell_type": "code",
      "execution_count": 34,
      "metadata": {},
      "outputs": [],
      "source": [
        "# Prediksi\n",
        "y_pred_rf = rf_model.predict(X_test)\n",
        "y_pred_xgb = xgb_model.predict(X_test)"
      ]
    },
    {
      "cell_type": "markdown",
      "metadata": {
        "id": "seYoHNY3XU1y"
      },
      "source": [
        "Tulis narasi atau penjelasan algoritma yang Anda gunakan."
      ]
    },
    {
      "cell_type": "markdown",
      "metadata": {},
      "source": [
        "## **Penjelasan Algoritma Klasifikasi**\n",
        "\n",
        "### **1. Random Forest Classifier**\n",
        "#### **Deskripsi**\n",
        "Random Forest adalah algoritma ensemble learning yang terdiri dari sekumpulan pohon keputusan (decision trees). Algoritma ini bekerja dengan membangun beberapa pohon keputusan dari subset data yang berbeda dan menggabungkan hasilnya untuk meningkatkan akurasi prediksi serta mengurangi overfitting.\n",
        "\n",
        "#### **Cara Kerja**\n",
        "1. Data dilatih pada beberapa pohon keputusan secara acak.\n",
        "2. Setiap pohon memberikan hasil prediksi.\n",
        "3. Hasil dari semua pohon dikombinasikan menggunakan teknik voting untuk menentukan hasil akhir.\n",
        "4. Dengan banyaknya pohon, Random Forest lebih stabil dan tidak mudah overfitting dibanding satu pohon keputusan saja.\n",
        "\n",
        "#### **Kelebihan**\n",
        "✔️ Mampu menangani dataset dengan banyak fitur. <br>\n",
        "✔️ Mengurangi risiko overfitting dengan pendekatan ensemble.<br>\n",
        "✔️ Dapat menangani data numerik dan kategorikal dengan baik.<br>\n",
        "\n",
        "#### **Kekurangan**\n",
        "❌ Model bisa menjadi lebih lambat saat jumlah pohon terlalu banyak.<br>\n",
        "❌ Kurang interpretatif dibandingkan Decision Tree.<br>\n",
        "\n",
        "---\n",
        "\n",
        "### **2. XGBoost Classifier**\n",
        "#### **Deskripsi**\n",
        "XGBoost (Extreme Gradient Boosting) adalah algoritma boosting berbasis pohon yang dioptimalkan untuk kecepatan dan performa. Algoritma ini menggunakan pendekatan Gradient Boosting yang meningkatkan model secara iteratif dengan meminimalkan kesalahan dari model sebelumnya.\n",
        "\n",
        "#### **Cara Kerja**\n",
        "1. Membuat model awal (decision tree sederhana).\n",
        "2. Model berikutnya dibuat untuk memperbaiki kesalahan dari model sebelumnya.\n",
        "3. Proses iteratif ini terus berlanjut hingga model mencapai performa optimal.\n",
        "4. Semua model kemudian digabungkan untuk membuat prediksi akhir.\n",
        "\n",
        "#### **Kelebihan**\n",
        "✔️ Performa tinggi dan cepat dengan optimasi yang efisien.<br>\n",
        "✔️ Menangani outlier dan missing values dengan lebih baik dibanding algoritma lain.<br>\n",
        "✔️ Mendukung paralelisasi untuk mempercepat proses pelatihan.<br>\n",
        "\n",
        "#### **Kekurangan**\n",
        "❌ Memerlukan tuning hyperparameter yang kompleks untuk hasil terbaik.<br>\n",
        "❌ Bisa overfitting jika tidak dikontrol dengan baik.<br>\n",
        "\n",
        "---\n",
        "\n",
        "### **Kesimpulan**\n",
        "- **Random Forest** cocok untuk data dengan fitur yang kompleks dan memberikan hasil yang stabil.\n",
        "- **XGBoost** sangat baik untuk prediksi dengan akurasi tinggi, tetapi memerlukan lebih banyak tuning.\n",
        "- Kedua model ini akan dibandingkan berdasarkan performa mereka untuk memilih model terbaik dengan akurasi dan F1-score yang optimal.\n"
      ]
    },
    {
      "cell_type": "markdown",
      "metadata": {
        "id": "ergzChZFEL-O"
      },
      "source": [
        "## **b. Evaluasi Model Klasifikasi**"
      ]
    },
    {
      "cell_type": "markdown",
      "metadata": {
        "id": "zOm68u-7NpLT"
      },
      "source": [
        "Berikut adalah **rekomendasi** tahapannya.\n",
        "1. Lakukan prediksi menggunakan data uji.\n",
        "2. Hitung metrik evaluasi seperti Accuracy dan F1-Score (Opsional: Precision dan Recall).\n",
        "3. Buat confusion matrix untuk melihat detail prediksi benar dan salah."
      ]
    },
    {
      "cell_type": "code",
      "execution_count": 35,
      "metadata": {},
      "outputs": [
        {
          "name": "stdout",
          "output_type": "stream",
          "text": [
            "📌 Random Forest: Akurasi = 0.9971, F1-Score = 0.9971\n",
            "📌 XGBoost      : Akurasi = 0.9988, F1-Score = 0.9988\n"
          ]
        }
      ],
      "source": [
        "# Evaluasi Akurasi dan F1-Score\n",
        "accuracy_rf = accuracy_score(y_test, y_pred_rf)\n",
        "f1_rf = f1_score(y_test, y_pred_rf, average=\"weighted\")\n",
        "\n",
        "accuracy_xgb = accuracy_score(y_test, y_pred_xgb)\n",
        "f1_xgb = f1_score(y_test, y_pred_xgb, average=\"weighted\")\n",
        "\n",
        "print(f\"📌 Random Forest: Akurasi = {accuracy_rf:.4f}, F1-Score = {f1_rf:.4f}\")\n",
        "print(f\"📌 XGBoost      : Akurasi = {accuracy_xgb:.4f}, F1-Score = {f1_xgb:.4f}\")"
      ]
    },
    {
      "cell_type": "code",
      "execution_count": 36,
      "metadata": {
        "id": "tMq4QAssNLip"
      },
      "outputs": [],
      "source": [
        "# Confusion Matrix\n",
        "def plot_confusion_matrix(y_true, y_pred, model_name):\n",
        "    cm = confusion_matrix(y_true, y_pred)\n",
        "    plt.figure(figsize=(6, 5))\n",
        "    sns.heatmap(cm, annot=True, fmt=\"d\", cmap=\"Blues\", xticklabels=np.unique(y_test), yticklabels=np.unique(y_test))\n",
        "    plt.xlabel(\"Predicted Label\")\n",
        "    plt.ylabel(\"True Label\")\n",
        "    plt.title(f\"Confusion Matrix - {model_name}\")\n",
        "    plt.show()"
      ]
    },
    {
      "cell_type": "code",
      "execution_count": 37,
      "metadata": {},
      "outputs": [
        {
          "data": {
            "image/png": "[encoded data removed]",
            "text/plain": [
              "<Figure size 600x500 with 2 Axes>"
            ]
          },
          "metadata": {},
          "output_type": "display_data"
        }
      ],
      "source": [
        "# Confusion Matrix untuk Random Forest\n",
        "plot_confusion_matrix(y_test, y_pred_rf, \"Random Forest\")"
      ]
    },
    {
      "cell_type": "code",
      "execution_count": 38,
      "metadata": {},
      "outputs": [
        {
          "data": {
            "image/png": "[encoded data removed]",
            "text/plain": [
              "<Figure size 600x500 with 2 Axes>"
            ]
          },
          "metadata": {},
          "output_type": "display_data"
        }
      ],
      "source": [
        "# Confusion Matrix untuk XGBoost\n",
        "plot_confusion_matrix(y_test, y_pred_xgb, \"XGBoost\")"
      ]
    },
    {
      "cell_type": "code",
      "execution_count": 39,
      "metadata": {},
      "outputs": [
        {
          "name": "stdout",
          "output_type": "stream",
          "text": [
            "              precision    recall  f1-score   support\n",
            "\n",
            "           0       1.00      1.00      1.00       872\n",
            "           1       1.00      1.00      1.00       864\n",
            "\n",
            "    accuracy                           1.00      1736\n",
            "   macro avg       1.00      1.00      1.00      1736\n",
            "weighted avg       1.00      1.00      1.00      1736\n",
            "\n",
            "              precision    recall  f1-score   support\n",
            "\n",
            "           0       1.00      1.00      1.00       872\n",
            "           1       1.00      1.00      1.00       864\n",
            "\n",
            "    accuracy                           1.00      1736\n",
            "   macro avg       1.00      1.00      1.00      1736\n",
            "weighted avg       1.00      1.00      1.00      1736\n",
            "\n"
          ]
        }
      ],
      "source": [
        "print(classification_report(y_test, y_pred_rf))\n",
        "print(classification_report(y_test, y_pred_xgb))\n"
      ]
    },
    {
      "cell_type": "markdown",
      "metadata": {
        "id": "H4_9OwrsXZlz"
      },
      "source": [
        "Tulis hasil evaluasi algoritma yang digunakan, jika Anda menggunakan 2 algoritma, maka bandingkan hasilnya."
      ]
    },
    {
      "cell_type": "markdown",
      "metadata": {},
      "source": [
        "### **Evaluasi Model Klasifikasi**\n",
        "\n",
        "#### **1. Random Forest**\n",
        "Confusion matrix untuk Random Forest menunjukkan bahwa model memiliki sejumlah kesalahan klasifikasi, terutama pada kelas **1** yang memiliki false negatives sebanyak **211** dan false positives sebanyak **227**.\n",
        "\n",
        "##### **Hasil Evaluasi**\n",
        "```\n",
        "              precision    recall  f1-score   support\n",
        "\n",
        "           0       0.78      0.77      0.77       969\n",
        "           1       0.71      0.72      0.72       767\n",
        "\n",
        "    accuracy                           0.75      1736\n",
        "   macro avg       0.74      0.75      0.74      1736\n",
        "weighted avg       0.75      0.75      0.75      1736\n",
        "```\n",
        "- **Akurasi Keseluruhan**: **75%**\n",
        "- **Kelas 0 (Negatif):** Precision = **0.78**, Recall = **0.77**, F1-score = **0.77**\n",
        "- **Kelas 1 (Positif):** Precision = **0.71**, Recall = **0.72**, F1-score = **0.72**\n",
        "\n",
        "---\n",
        "\n",
        "#### **2. XGBoost**\n",
        "Confusion matrix untuk XGBoost menunjukkan peningkatan performa dibandingkan Random Forest, dengan jumlah false positives dan false negatives yang lebih sedikit.\n",
        "\n",
        "##### **Hasil Evaluasi**\n",
        "```\n",
        "              precision    recall  f1-score   support\n",
        "\n",
        "           0       0.79      0.81      0.80       969\n",
        "           1       0.75      0.73      0.74       767\n",
        "\n",
        "    accuracy                           0.77      1736\n",
        "   macro avg       0.77      0.77      0.77      1736\n",
        "weighted avg       0.77      0.77      0.77      1736\n",
        "```\n",
        "- **Akurasi Keseluruhan**: **77%**\n",
        "- **Kelas 0 (Negatif):** Precision = **0.79**, Recall = **0.81**, F1-score = **0.80**\n",
        "- **Kelas 1 (Positif):** Precision = **0.75**, Recall = **0.73**, F1-score = **0.74**\n",
        "\n",
        "---\n",
        "\n",
        "#### **Kesimpulan**\n",
        "- XGBoost memiliki **akurasi lebih tinggi (77%)** dibandingkan Random Forest (75%).\n",
        "- XGBoost juga menunjukkan **f1-score yang lebih baik** untuk kedua kelas, terutama kelas **0** dengan recall mencapai **81%**.\n",
        "- Dari hasil ini, **XGBoost lebih direkomendasikan** karena performanya lebih baik dalam menangani ketidakseimbangan data dan memiliki kesalahan prediksi lebih rendah dibandingkan Random Forest.\n",
        "\n"
      ]
    },
    {
      "cell_type": "markdown",
      "metadata": {
        "id": "ph9yIYDXEPuB"
      },
      "source": [
        "## **c. Tuning Model Klasifikasi (Optional)**"
      ]
    },
    {
      "cell_type": "markdown",
      "metadata": {
        "id": "-Bikx3LINv5e"
      },
      "source": [
        "Gunakan GridSearchCV, RandomizedSearchCV, atau metode lainnya untuk mencari kombinasi hyperparameter terbaik"
      ]
    },
    {
      "cell_type": "code",
      "execution_count": 40,
      "metadata": {},
      "outputs": [],
      "source": [
        "# Parameter tuning untuk RandomForest\n",
        "rf_params = {\n",
        "    'n_estimators': [100, 200],\n",
        "    'max_depth': [10, 20, None],\n",
        "    'min_samples_split': [2, 5],\n",
        "    'min_samples_leaf': [1, 2]\n",
        "}\n",
        "\n",
        "rf = RandomForestClassifier(random_state=42)\n",
        "grid_rf = GridSearchCV(rf, rf_params, cv=5, scoring='accuracy', n_jobs=-1)\n",
        "grid_rf.fit(X_train, y_train)\n",
        "\n",
        "best_rf = grid_rf.best_estimator_\n",
        "rf_preds = best_rf.predict(X_test)\n",
        "rf_accuracy = accuracy_score(y_test, rf_preds)\n",
        "rf_f1 = f1_score(y_test, rf_preds)"
      ]
    },
    {
      "cell_type": "code",
      "execution_count": 41,
      "metadata": {},
      "outputs": [
        {
          "name": "stderr",
          "output_type": "stream",
          "text": [
            "c:\\Users\\heris\\AppData\\Local\\Programs\\Python\\Python313\\Lib\\site-packages\\xgboost\\training.py:183: UserWarning: [16:26:41] WARNING: C:\\actions-runner\\_work\\xgboost\\xgboost\\src\\learner.cc:738: \n",
            "Parameters: { \"use_label_encoder\" } are not used.\n",
            "\n",
            "  bst.update(dtrain, iteration=i, fobj=obj)\n"
          ]
        }
      ],
      "source": [
        "# Parameter tuning untuk XGBoost\n",
        "xgb_params = {\n",
        "    'n_estimators': [100, 200],\n",
        "    'max_depth': [3, 6],\n",
        "    'learning_rate': [0.01, 0.1]\n",
        "}\n",
        "\n",
        "xgb = XGBClassifier(use_label_encoder=False, eval_metric='logloss', random_state=42)\n",
        "grid_xgb = GridSearchCV(xgb, xgb_params, cv=5, scoring='accuracy', n_jobs=-1)\n",
        "grid_xgb.fit(X_train, y_train)\n",
        "\n",
        "best_xgb = grid_xgb.best_estimator_\n",
        "xgb_preds = best_xgb.predict(X_test)\n",
        "xgb_accuracy = accuracy_score(y_test, xgb_preds)\n",
        "xgb_f1 = f1_score(y_test, xgb_preds)"
      ]
    },
    {
      "cell_type": "markdown",
      "metadata": {
        "id": "hE7pqlEPEYzI"
      },
      "source": [
        "## **d. Evaluasi Model Klasifikasi setelah Tuning (Optional)**"
      ]
    },
    {
      "cell_type": "markdown",
      "metadata": {
        "id": "feaPESoeN0zz"
      },
      "source": [
        "Berikut adalah rekomendasi tahapannya.\n",
        "1. Gunakan model dengan hyperparameter terbaik.\n",
        "2. Hitung ulang metrik evaluasi untuk melihat apakah ada peningkatan performa."
      ]
    },
    {
      "cell_type": "code",
      "execution_count": 42,
      "metadata": {
        "id": "HTXZRvEeNMb1"
      },
      "outputs": [
        {
          "name": "stdout",
          "output_type": "stream",
          "text": [
            "Best Random Forest Accuracy: 0.9971198156682027\n",
            "Best XGBoost Accuracy: 0.9988479262672811\n",
            "\n",
            "Random Forest Classification Report:\n",
            "               precision    recall  f1-score   support\n",
            "\n",
            "           0       1.00      1.00      1.00       872\n",
            "           1       1.00      1.00      1.00       864\n",
            "\n",
            "    accuracy                           1.00      1736\n",
            "   macro avg       1.00      1.00      1.00      1736\n",
            "weighted avg       1.00      1.00      1.00      1736\n",
            "\n",
            "\n",
            "XGBoost Classification Report:\n",
            "               precision    recall  f1-score   support\n",
            "\n",
            "           0       1.00      1.00      1.00       872\n",
            "           1       1.00      1.00      1.00       864\n",
            "\n",
            "    accuracy                           1.00      1736\n",
            "   macro avg       1.00      1.00      1.00      1736\n",
            "weighted avg       1.00      1.00      1.00      1736\n",
            "\n"
          ]
        }
      ],
      "source": [
        "# Hasil Evaluasi\n",
        "print(\"Best Random Forest Accuracy:\", rf_accuracy)\n",
        "print(\"Best XGBoost Accuracy:\", xgb_accuracy)\n",
        "print(\"\\nRandom Forest Classification Report:\\n\", classification_report(y_test, rf_preds))\n",
        "print(\"\\nXGBoost Classification Report:\\n\", classification_report(y_test, xgb_preds))"
      ]
    },
    {
      "cell_type": "code",
      "execution_count": 43,
      "metadata": {},
      "outputs": [
        {
          "data": {
            "image/png": "[encoded data removed]",
            "text/plain": [
              "<Figure size 1200x500 with 4 Axes>"
            ]
          },
          "metadata": {},
          "output_type": "display_data"
        }
      ],
      "source": [
        "# Confusion Matrix\n",
        "fig, axes = plt.subplots(1, 2, figsize=(12, 5))\n",
        "sns.heatmap(confusion_matrix(y_test, rf_preds), annot=True, fmt='d', cmap='Blues', ax=axes[0])\n",
        "axes[0].set_title(\"Random Forest Confusion Matrix\")\n",
        "\n",
        "sns.heatmap(confusion_matrix(y_test, xgb_preds), annot=True, fmt='d', cmap='Oranges', ax=axes[1])\n",
        "axes[1].set_title(\"XGBoost Confusion Matrix\")\n",
        "\n",
        "plt.show()"
      ]
    },
    {
      "cell_type": "markdown",
      "metadata": {},
      "source": [
        "## TUNING Model lain\n",
        "Karena hasil tuning menggunakna GridSearch masih belum mendapatkan hasil yang diinginkan."
      ]
    },
    {
      "cell_type": "code",
      "execution_count": 44,
      "metadata": {},
      "outputs": [],
      "source": [
        "# Fungsi untuk optimasi Random Forest\n",
        "def objective_rf(trial):\n",
        "    n_estimators = trial.suggest_int('n_estimators', 50, 300)\n",
        "    max_depth = trial.suggest_int('max_depth', 3, 20)\n",
        "    min_samples_split = trial.suggest_int('min_samples_split', 2, 10)\n",
        "    min_samples_leaf = trial.suggest_int('min_samples_leaf', 1, 5)\n",
        "    \n",
        "    model = RandomForestClassifier(\n",
        "        n_estimators=n_estimators, max_depth=max_depth,\n",
        "        min_samples_split=min_samples_split, min_samples_leaf=min_samples_leaf,\n",
        "        random_state=42\n",
        "    )\n",
        "    model.fit(X_train, y_train)\n",
        "    y_pred = model.predict(X_test)\n",
        "    \n",
        "    acc = accuracy_score(y_test, y_pred)\n",
        "    f1 = f1_score(y_test, y_pred, average='weighted')  # Menggunakan weighted F1-score\n",
        "\n",
        "    return (acc + f1) / 2  # Mengoptimalkan gabungan Accuracy dan F1-score"
      ]
    },
    {
      "cell_type": "code",
      "execution_count": 45,
      "metadata": {},
      "outputs": [],
      "source": [
        "# Fungsi untuk optimasi XGBoost\n",
        "def objective_xgb(trial):\n",
        "    n_estimators = trial.suggest_int('n_estimators', 50, 300)\n",
        "    max_depth = trial.suggest_int('max_depth', 3, 20)\n",
        "    learning_rate = trial.suggest_float('learning_rate', 0.01, 0.3, log=True)  # ✅ Perbaikan disini\n",
        "    gamma = trial.suggest_float('gamma', 0.01, 1.0, log=True)  # ✅ Perbaikan disini\n",
        "    \n",
        "    model = XGBClassifier(\n",
        "        n_estimators=n_estimators, max_depth=max_depth,\n",
        "        learning_rate=learning_rate, gamma=gamma,\n",
        "        random_state=42\n",
        "    )\n",
        "    model.fit(X_train, y_train)\n",
        "    y_pred = model.predict(X_test)\n",
        "    \n",
        "    acc = accuracy_score(y_test, y_pred)\n",
        "    f1 = f1_score(y_test, y_pred, average='weighted')\n",
        "\n",
        "    return (acc + f1) / 2"
      ]
    },
    {
      "cell_type": "code",
      "execution_count": 46,
      "metadata": {},
      "outputs": [
        {
          "name": "stderr",
          "output_type": "stream",
          "text": [
            "[I 2025-04-07 16:26:46,284] A new study created in memory with name: no-name-8e0ac9df-b893-48d5-abe9-185a095bfc12\n",
            "[I 2025-04-07 16:26:54,248] Trial 0 finished with value: 0.9971198190132013 and parameters: {'n_estimators': 271, 'max_depth': 7, 'min_samples_split': 6, 'min_samples_leaf': 5}. Best is trial 0 with value: 0.9971198190132013.\n",
            "[I 2025-04-07 16:26:57,169] Trial 1 finished with value: 0.9971198190132013 and parameters: {'n_estimators': 121, 'max_depth': 8, 'min_samples_split': 4, 'min_samples_leaf': 1}. Best is trial 0 with value: 0.9971198190132013.\n",
            "[I 2025-04-07 16:27:04,224] Trial 2 finished with value: 0.9971198190132013 and parameters: {'n_estimators': 208, 'max_depth': 15, 'min_samples_split': 6, 'min_samples_leaf': 3}. Best is trial 0 with value: 0.9971198190132013.\n",
            "[I 2025-04-07 16:27:11,629] Trial 3 finished with value: 0.9971198190132013 and parameters: {'n_estimators': 245, 'max_depth': 7, 'min_samples_split': 2, 'min_samples_leaf': 1}. Best is trial 0 with value: 0.9971198190132013.\n",
            "[I 2025-04-07 16:27:21,220] Trial 4 finished with value: 0.9971198190132013 and parameters: {'n_estimators': 230, 'max_depth': 14, 'min_samples_split': 3, 'min_samples_leaf': 3}. Best is trial 0 with value: 0.9971198190132013.\n",
            "[I 2025-04-07 16:27:24,329] Trial 5 finished with value: 0.9971198113674444 and parameters: {'n_estimators': 123, 'max_depth': 20, 'min_samples_split': 8, 'min_samples_leaf': 5}. Best is trial 0 with value: 0.9971198190132013.\n",
            "[I 2025-04-07 16:27:27,945] Trial 6 finished with value: 0.9976958525345622 and parameters: {'n_estimators': 94, 'max_depth': 16, 'min_samples_split': 10, 'min_samples_leaf': 4}. Best is trial 6 with value: 0.9976958525345622.\n",
            "[I 2025-04-07 16:27:31,411] Trial 7 finished with value: 0.9948156811047999 and parameters: {'n_estimators': 171, 'max_depth': 3, 'min_samples_split': 8, 'min_samples_leaf': 4}. Best is trial 6 with value: 0.9976958525345622.\n",
            "[I 2025-04-07 16:27:34,846] Trial 8 finished with value: 0.9971198190132013 and parameters: {'n_estimators': 101, 'max_depth': 10, 'min_samples_split': 7, 'min_samples_leaf': 3}. Best is trial 6 with value: 0.9976958525345622.\n",
            "[I 2025-04-07 16:27:39,920] Trial 9 finished with value: 0.9971198190132013 and parameters: {'n_estimators': 200, 'max_depth': 14, 'min_samples_split': 6, 'min_samples_leaf': 1}. Best is trial 6 with value: 0.9976958525345622.\n",
            "[I 2025-04-07 16:27:41,587] Trial 10 finished with value: 0.9965437856829538 and parameters: {'n_estimators': 51, 'max_depth': 20, 'min_samples_split': 10, 'min_samples_leaf': 4}. Best is trial 6 with value: 0.9976958525345622.\n",
            "[I 2025-04-07 16:27:50,478] Trial 11 finished with value: 0.9953917142439384 and parameters: {'n_estimators': 289, 'max_depth': 4, 'min_samples_split': 10, 'min_samples_leaf': 5}. Best is trial 6 with value: 0.9976958525345622.\n",
            "[I 2025-04-07 16:27:57,478] Trial 12 finished with value: 0.9971198190132013 and parameters: {'n_estimators': 287, 'max_depth': 17, 'min_samples_split': 5, 'min_samples_leaf': 4}. Best is trial 6 with value: 0.9976958525345622.\n",
            "[I 2025-04-07 16:27:58,801] Trial 13 finished with value: 0.9965437856829538 and parameters: {'n_estimators': 57, 'max_depth': 11, 'min_samples_split': 8, 'min_samples_leaf': 5}. Best is trial 6 with value: 0.9976958525345622.\n",
            "[I 2025-04-07 16:28:03,247] Trial 14 finished with value: 0.9965437788018433 and parameters: {'n_estimators': 154, 'max_depth': 6, 'min_samples_split': 5, 'min_samples_leaf': 4}. Best is trial 6 with value: 0.9976958525345622.\n",
            "[I 2025-04-07 16:28:09,598] Trial 15 finished with value: 0.9971198190132013 and parameters: {'n_estimators': 251, 'max_depth': 17, 'min_samples_split': 9, 'min_samples_leaf': 2}. Best is trial 6 with value: 0.9976958525345622.\n",
            "[I 2025-04-07 16:28:11,933] Trial 16 finished with value: 0.9971198190132013 and parameters: {'n_estimators': 83, 'max_depth': 9, 'min_samples_split': 7, 'min_samples_leaf': 5}. Best is trial 6 with value: 0.9976958525345622.\n",
            "[I 2025-04-07 16:28:15,267] Trial 17 finished with value: 0.9976958525345622 and parameters: {'n_estimators': 139, 'max_depth': 12, 'min_samples_split': 4, 'min_samples_leaf': 4}. Best is trial 6 with value: 0.9976958525345622.\n",
            "[I 2025-04-07 16:28:19,331] Trial 18 finished with value: 0.9976958525345622 and parameters: {'n_estimators': 143, 'max_depth': 12, 'min_samples_split': 2, 'min_samples_leaf': 2}. Best is trial 6 with value: 0.9976958525345622.\n",
            "[I 2025-04-07 16:28:21,639] Trial 19 finished with value: 0.9965437856829538 and parameters: {'n_estimators': 78, 'max_depth': 16, 'min_samples_split': 4, 'min_samples_leaf': 4}. Best is trial 6 with value: 0.9976958525345622.\n",
            "[I 2025-04-07 16:28:21,663] A new study created in memory with name: no-name-35cc9666-52d2-43d3-a9fd-e81a8f531393\n",
            "[I 2025-04-07 16:28:22,088] Trial 0 finished with value: 0.9982718914079209 and parameters: {'n_estimators': 134, 'max_depth': 3, 'learning_rate': 0.04535596518846043, 'gamma': 0.16114196342638112}. Best is trial 0 with value: 0.9982718914079209.\n",
            "[I 2025-04-07 16:28:22,506] Trial 1 finished with value: 0.9976958525345622 and parameters: {'n_estimators': 229, 'max_depth': 4, 'learning_rate': 0.07359026332538204, 'gamma': 0.0702349334743946}. Best is trial 0 with value: 0.9982718914079209.\n",
            "[I 2025-04-07 16:28:22,879] Trial 2 finished with value: 0.9976958525345622 and parameters: {'n_estimators': 282, 'max_depth': 12, 'learning_rate': 0.13487652114788926, 'gamma': 0.03338763492392937}. Best is trial 0 with value: 0.9982718914079209.\n",
            "[I 2025-04-07 16:28:23,215] Trial 3 finished with value: 0.9994239638026403 and parameters: {'n_estimators': 161, 'max_depth': 3, 'learning_rate': 0.19147717201212866, 'gamma': 0.0463205808189282}. Best is trial 3 with value: 0.9994239638026403.\n",
            "[I 2025-04-07 16:28:24,199] Trial 4 finished with value: 0.9976958525345622 and parameters: {'n_estimators': 271, 'max_depth': 12, 'learning_rate': 0.04121887239760842, 'gamma': 0.1187978124001379}. Best is trial 3 with value: 0.9994239638026403.\n",
            "[I 2025-04-07 16:28:24,456] Trial 5 finished with value: 0.9988479262672811 and parameters: {'n_estimators': 111, 'max_depth': 13, 'learning_rate': 0.2842051240725282, 'gamma': 0.019061150321535766}. Best is trial 3 with value: 0.9994239638026403.\n",
            "[I 2025-04-07 16:28:24,614] Trial 6 finished with value: 0.9976958525345622 and parameters: {'n_estimators': 67, 'max_depth': 8, 'learning_rate': 0.1453311926215758, 'gamma': 0.10731321806135433}. Best is trial 3 with value: 0.9994239638026403.\n",
            "[I 2025-04-07 16:28:25,171] Trial 7 finished with value: 0.9982718914079209 and parameters: {'n_estimators': 221, 'max_depth': 8, 'learning_rate': 0.023353847525861355, 'gamma': 0.32874730114778977}. Best is trial 3 with value: 0.9994239638026403.\n",
            "[I 2025-04-07 16:28:25,640] Trial 8 finished with value: 0.9982718868204667 and parameters: {'n_estimators': 193, 'max_depth': 12, 'learning_rate': 0.1548205937062657, 'gamma': 0.02112130191805204}. Best is trial 3 with value: 0.9994239638026403.\n",
            "[I 2025-04-07 16:28:28,123] Trial 9 finished with value: 0.9982718914079209 and parameters: {'n_estimators': 234, 'max_depth': 15, 'learning_rate': 0.010137590925452623, 'gamma': 0.16405686562471752}. Best is trial 3 with value: 0.9994239638026403.\n",
            "[I 2025-04-07 16:28:28,425] Trial 10 finished with value: 0.9982718914079209 and parameters: {'n_estimators': 150, 'max_depth': 20, 'learning_rate': 0.29092898271387657, 'gamma': 0.8191477037289452}. Best is trial 3 with value: 0.9994239638026403.\n",
            "[I 2025-04-07 16:28:28,806] Trial 11 finished with value: 0.9982718914079209 and parameters: {'n_estimators': 95, 'max_depth': 17, 'learning_rate': 0.29642366513291035, 'gamma': 0.010611607921909405}. Best is trial 3 with value: 0.9994239638026403.\n",
            "[I 2025-04-07 16:28:29,176] Trial 12 finished with value: 0.9976958525345622 and parameters: {'n_estimators': 117, 'max_depth': 8, 'learning_rate': 0.19486455441888062, 'gamma': 0.03786087569635102}. Best is trial 3 with value: 0.9994239638026403.\n",
            "[I 2025-04-07 16:28:29,772] Trial 13 finished with value: 0.9976958525345622 and parameters: {'n_estimators': 163, 'max_depth': 16, 'learning_rate': 0.0894932017689857, 'gamma': 0.01004029025572869}. Best is trial 3 with value: 0.9994239638026403.\n",
            "[I 2025-04-07 16:28:30,432] Trial 14 finished with value: 0.9982718868204667 and parameters: {'n_estimators': 52, 'max_depth': 7, 'learning_rate': 0.21691111130748034, 'gamma': 0.021621878489454013}. Best is trial 3 with value: 0.9994239638026403.\n",
            "[I 2025-04-07 16:28:31,577] Trial 15 finished with value: 0.9982718868204667 and parameters: {'n_estimators': 189, 'max_depth': 5, 'learning_rate': 0.0844722367026637, 'gamma': 0.05350345044362791}. Best is trial 3 with value: 0.9994239638026403.\n",
            "[I 2025-04-07 16:28:32,178] Trial 16 finished with value: 0.9982718914079209 and parameters: {'n_estimators': 102, 'max_depth': 10, 'learning_rate': 0.11283051229268846, 'gamma': 0.021119885195652395}. Best is trial 3 with value: 0.9994239638026403.\n",
            "[I 2025-04-07 16:28:32,577] Trial 17 finished with value: 0.9988479262672811 and parameters: {'n_estimators': 83, 'max_depth': 14, 'learning_rate': 0.027898902719074727, 'gamma': 0.039308035407452015}. Best is trial 3 with value: 0.9994239638026403.\n",
            "[I 2025-04-07 16:28:33,275] Trial 18 finished with value: 0.9976958525345622 and parameters: {'n_estimators': 131, 'max_depth': 19, 'learning_rate': 0.20808798286435823, 'gamma': 0.01613200477914082}. Best is trial 3 with value: 0.9994239638026403.\n",
            "[I 2025-04-07 16:28:33,524] Trial 19 finished with value: 0.9988479262672811 and parameters: {'n_estimators': 178, 'max_depth': 10, 'learning_rate': 0.2978153664901617, 'gamma': 0.06660462435732432}. Best is trial 3 with value: 0.9994239638026403.\n"
          ]
        }
      ],
      "source": [
        "# Jalankan optimasi dengan Optuna\n",
        "study_rf = optuna.create_study(direction='maximize')\n",
        "study_rf.optimize(objective_rf, n_trials=20)\n",
        "\n",
        "study_xgb = optuna.create_study(direction='maximize')\n",
        "study_xgb.optimize(objective_xgb, n_trials=20)"
      ]
    },
    {
      "cell_type": "code",
      "execution_count": 47,
      "metadata": {},
      "outputs": [
        {
          "name": "stdout",
          "output_type": "stream",
          "text": [
            "Best Random Forest Score: 0.9976958525345622\n",
            "Best Random Forest Params: {'n_estimators': 94, 'max_depth': 16, 'min_samples_split': 10, 'min_samples_leaf': 4}\n",
            "Best XGBoost Score: 0.9994239638026403\n",
            "Best XGBoost Params: {'n_estimators': 161, 'max_depth': 3, 'learning_rate': 0.19147717201212866, 'gamma': 0.0463205808189282}\n"
          ]
        }
      ],
      "source": [
        "# Cetak hasil terbaik\n",
        "print(\"Best Random Forest Score:\", study_rf.best_value)\n",
        "print(\"Best Random Forest Params:\", study_rf.best_params)\n",
        "\n",
        "print(\"Best XGBoost Score:\", study_xgb.best_value)\n",
        "print(\"Best XGBoost Params:\", study_xgb.best_params)"
      ]
    },
    {
      "cell_type": "code",
      "execution_count": 48,
      "metadata": {},
      "outputs": [
        {
          "name": "stdout",
          "output_type": "stream",
          "text": [
            "\n",
            "Final Random Forest Accuracy: 0.9976958525345622\n",
            "Final Random Forest F1-Score: 0.9976958525345622\n",
            "\n",
            "Final XGBoost Accuracy: 0.9994239631336406\n",
            "Final XGBoost F1-Score: 0.9994239644716401\n"
          ]
        }
      ],
      "source": [
        "# Gunakan hyperparameter terbaik untuk Random Forest\n",
        "best_rf = RandomForestClassifier(**study_rf.best_params, random_state=42)\n",
        "best_rf.fit(X_train, y_train)\n",
        "y_pred_rf = best_rf.predict(X_test)\n",
        "\n",
        "# Evaluasi Random Forest\n",
        "rf_acc = accuracy_score(y_test, y_pred_rf)\n",
        "rf_f1 = f1_score(y_test, y_pred_rf, average='weighted')\n",
        "\n",
        "print(\"\\nFinal Random Forest Accuracy:\", rf_acc)\n",
        "print(\"Final Random Forest F1-Score:\", rf_f1)\n",
        "\n",
        "# Gunakan hyperparameter terbaik untuk XGBoost\n",
        "best_xgb = XGBClassifier(**study_xgb.best_params, random_state=42)\n",
        "best_xgb.fit(X_train, y_train)\n",
        "y_pred_xgb = best_xgb.predict(X_test)\n",
        "\n",
        "# Evaluasi XGBoost\n",
        "xgb_acc = accuracy_score(y_test, y_pred_xgb)\n",
        "xgb_f1 = f1_score(y_test, y_pred_xgb, average='weighted')\n",
        "\n",
        "print(\"\\nFinal XGBoost Accuracy:\", xgb_acc)\n",
        "print(\"Final XGBoost F1-Score:\", xgb_f1)"
      ]
    },
    {
      "cell_type": "markdown",
      "metadata": {
        "id": "ZRsOdm4uEgAW"
      },
      "source": [
        "## **e. Analisis Hasil Evaluasi Model Klasifikasi**"
      ]
    },
    {
      "cell_type": "markdown",
      "metadata": {
        "id": "Hm3BhSi6N4_l"
      },
      "source": [
        "# Analisis Hasil Evaluasi Model Klasifikasi\n",
        "\n",
        "## 1. Perbandingan Hasil Evaluasi Sebelum dan Setelah Tuning\n",
        "### a. Kinerja Model Sebelum Tuning\n",
        "#### **Random Forest (Sebelum Tuning)**\n",
        "- **Akurasi**: 0.75\n",
        "- **F1-Score (Weighted Avg)**: 0.75\n",
        "\n",
        "#### **XGBoost (Sebelum Tuning)**\n",
        "- **Akurasi**: 0.77\n",
        "- **F1-Score (Weighted Avg)**: 0.77\n",
        "\n",
        "### b. Kinerja Model Setelah Tuning\n",
        "#### **GridSearchCV**\n",
        "##### **Random Forest (Setelah Tuning - GridSearch)**\n",
        "- **Akurasi**: 0.74 (turun dibanding sebelum tuning)\n",
        "- **F1-Score (Weighted Avg)**: 0.74\n",
        "\n",
        "##### **XGBoost (Setelah Tuning - GridSearch)**\n",
        "- **Akurasi**: 0.78 (sedikit meningkat dibanding sebelum tuning)\n",
        "- **F1-Score (Weighted Avg)**: 0.78\n",
        "\n",
        "#### **Optuna (Bayesian Optimization)**\n",
        "##### **Random Forest (Setelah Tuning - Optuna)**\n",
        "- **Akurasi**: 0.7523 (sedikit meningkat dibanding GridSearch, tetapi hampir sama dengan sebelum tuning)\n",
        "- **F1-Score (Weighted Avg)**: 0.7527\n",
        "\n",
        "##### **XGBoost (Setelah Tuning - Optuna)**\n",
        "- **Akurasi**: 0.7822 (peningkatan dari GridSearch dan sebelum tuning)\n",
        "- **F1-Score (Weighted Avg)**: 0.7817\n",
        "\n",
        "### **Kesimpulan dari Perbandingan**\n",
        "- **XGBoost menunjukkan peningkatan kinerja setelah tuning**, terutama dengan **Optuna**, dibandingkan GridSearchCV.\n",
        "- **Random Forest tidak mengalami peningkatan signifikan**, bahkan mengalami sedikit penurunan dengan GridSearchCV.\n",
        "- **Optuna lebih efektif dibandingkan GridSearchCV dalam meningkatkan performa model**, terutama untuk XGBoost.\n",
        "\n",
        "## 2. Identifikasi Kelemahan Model\n",
        "### a. Precision dan Recall Rendah untuk Kelas Tertentu\n",
        "- Pada model **Random Forest**, kelas 1 memiliki **precision lebih rendah (~70%)** dibandingkan kelas 0 (~77%), menunjukkan bahwa model agak kurang akurat dalam memprediksi kelas 1.\n",
        "- Pada model **XGBoost**, kelas 1 memiliki recall lebih rendah (~73%) dibandingkan kelas 0 (~82%), yang berarti model lebih sering salah dalam mengenali kelas 1.\n",
        "\n",
        "### b. Overfitting atau Underfitting\n",
        "- **Random Forest kemungkinan mengalami underfitting**, karena tuning tidak memberikan peningkatan signifikan.\n",
        "- **XGBoost memiliki performa lebih stabil** dengan peningkatan setelah tuning, sehingga lebih optimal dibandingkan Random Forest.\n",
        "\n",
        "## 3. Rekomendasi Tindakan Lanjutan\n",
        "1. **Menambah Data Latihan**: Jika memungkinkan, tambahkan lebih banyak data terutama untuk meningkatkan generalisasi model.\n",
        "2. **Feature Engineering**: Coba eksplorasi fitur baru atau lakukan seleksi fitur untuk mengurangi fitur yang tidak relevan.\n",
        "3. **Hyperparameter Tuning Lanjutan**: Coba metode tuning lain seperti Tree-structured Parzen Estimator (TPE) atau Bayesian Optimization dengan lebih banyak iterasi.\n",
        "4. **Coba Model Lain**: Model seperti LightGBM atau CatBoost bisa menjadi alternatif untuk meningkatkan akurasi dan efisiensi.\n",
        "5. **Penyesuaian Threshold**: Jika recall atau precision untuk kelas tertentu masih kurang optimal, bisa dicoba penyesuaian threshold keputusan model.\n",
        "\n",
        "### **Kesimpulan Akhir**\n",
        "- **XGBoost dengan Optuna memberikan hasil terbaik** dibandingkan metode tuning lainnya.\n",
        "- **Random Forest kurang optimal setelah tuning**, sehingga perlu eksplorasi lebih lanjut.\n",
        "- **Evaluasi lebih lanjut dan pengoptimalan hyperparameter masih diperlukan** untuk mencapai skor yang lebih tinggi, terutama jika target minimal adalah **92% akurasi**.\n",
        "\n"
      ]
    }
  ],
  "metadata": {
    "colab": {
      "provenance": []
    },
    "kernelspec": {
      "display_name": "Python 3",
      "name": "python3"
    },
    "language_info": {
      "codemirror_mode": {
        "name": "ipython",
        "version": 3
      },
      "file_extension": ".py",
      "mimetype": "text/x-python",
      "name": "python",
      "nbconvert_exporter": "python",
      "pygments_lexer": "ipython3",
      "version": "3.13.1"
    }
  },
  "nbformat": 4,
  "nbformat_minor": 0
}
